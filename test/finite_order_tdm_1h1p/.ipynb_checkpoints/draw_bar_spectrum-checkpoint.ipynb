{
 "cells": [
  {
   "cell_type": "markdown",
   "id": "5645d5e1",
   "metadata": {},
   "source": [
    "This scripts shows how to draw spectra as pretty barplots."
   ]
  },
  {
   "cell_type": "code",
   "execution_count": 1,
   "id": "b2f5ba47",
   "metadata": {},
   "outputs": [],
   "source": [
    "import matplotlib.pyplot as plt\n",
    "import numpy as np\n",
    "import math"
   ]
  },
  {
   "cell_type": "markdown",
   "id": "821950c4",
   "metadata": {},
   "source": [
    "Load simulated electronic spectrum from file.\n",
    "- first column: energy (eV)\n",
    "- second column: oscillator strength"
   ]
  },
  {
   "cell_type": "code",
   "execution_count": 17,
   "id": "6eb4a70a",
   "metadata": {},
   "outputs": [
    {
     "name": "stdout",
     "output_type": "stream",
     "text": [
      "[[4.3704   0.013958]\n",
      " [6.3659   0.668748]\n",
      " [8.4837   0.012105]\n",
      " [8.6881   0.032845]\n",
      " [9.4895   0.41612 ]]\n"
     ]
    }
   ],
   "source": [
    "txtfile = np.loadtxt('spectrum.txt')\n",
    "energies = txtfile[:,0]\n",
    "osc_str  = txtfile[:,1]\n",
    "print(txtfile)"
   ]
  },
  {
   "cell_type": "code",
   "execution_count": 32,
   "id": "d9b0ce08",
   "metadata": {},
   "outputs": [
    {
     "data": {
      "image/png": "[encoded data removed]",
      "text/plain": [
       "<Figure size 432x288 with 1 Axes>"
      ]
     },
     "metadata": {
      "needs_background": "light"
     },
     "output_type": "display_data"
    }
   ],
   "source": [
    "plt.bar(energies, osc_str, width=0.05, color='red') # , log=True)\n",
    "\n",
    "plt.ylabel('oscillator strength')\n",
    "plt.xlabel('transition energy, ev')\n",
    "plt.xlim(0,10)\n",
    "\n",
    "plt.show()"
   ]
  },
  {
   "cell_type": "code",
   "execution_count": null,
   "id": "dc8e841b",
   "metadata": {},
   "outputs": [],
   "source": []
  }
 ],
 "metadata": {
  "kernelspec": {
   "display_name": "Python 3 (ipykernel)",
   "language": "python",
   "name": "python3"
  },
  "language_info": {
   "codemirror_mode": {
    "name": "ipython",
    "version": 3
   },
   "file_extension": ".py",
   "mimetype": "text/x-python",
   "name": "python",
   "nbconvert_exporter": "python",
   "pygments_lexer": "ipython3",
   "version": "3.10.5"
  }
 },
 "nbformat": 4,
 "nbformat_minor": 5
}
